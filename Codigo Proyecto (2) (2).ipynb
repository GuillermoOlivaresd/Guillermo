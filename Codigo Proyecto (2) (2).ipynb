{
 "cells": [
  {
   "cell_type": "markdown",
   "metadata": {},
   "source": [
    "# Situacion Problema"
   ]
  },
  {
   "cell_type": "markdown",
   "metadata": {},
   "source": [
    "Guillermo Olivares A01197471"
   ]
  },
  {
   "cell_type": "markdown",
   "metadata": {},
   "source": [
    "## Descripcion de los datos"
   ]
  },
  {
   "cell_type": "markdown",
   "metadata": {},
   "source": [
    "La base de datos está fundamentada en un estudio de covid y su impacto en la vida de estudiantes. \n",
    "Se realizó una encuesta a 1182 estudiantes de diferentes instituciones en la ciudad de Delhi.\n",
    "Contiene 18 variables"
   ]
  },
  {
   "cell_type": "markdown",
   "metadata": {},
   "source": [
    "**Variables Categoricas:**\n",
    "    ID, Region of Residence, Rating of Online Class experience, Medium for online class, Prefered social media platform, Stress busters\n",
    "    \n",
    "**Variables Continuas:**\n",
    "    Time spent on Online Class, Time spent on self study, Time spent on fitness, Time spent on sleep, Time spent on social media, Time spent on TV.\n",
    "\n",
    "**Variables Discretas:**\n",
    "Age of Subject, Number of meals per day.\n",
    "\n",
    "**Variables Binarias:**\n",
    "Health issue during lockdown, Time utilized, More close to Family, close friends , relatives?\n"
   ]
  },
  {
   "cell_type": "code",
   "execution_count": null,
   "metadata": {},
   "outputs": [],
   "source": [
    "df = pd.read_csv(\"COVID-19 Survey Student Responses.csv\")"
   ]
  },
  {
   "cell_type": "code",
   "execution_count": null,
   "metadata": {},
   "outputs": [],
   "source": [
    "df.head()"
   ]
  },
  {
   "cell_type": "code",
   "execution_count": null,
   "metadata": {},
   "outputs": [],
   "source": [
    "df.corr()"
   ]
  },
  {
   "cell_type": "markdown",
   "metadata": {},
   "source": [
    "## ¿Cual es la frecuencia de edad dentro los participantes que contestaron la encuesta? ##"
   ]
  },
  {
   "cell_type": "code",
   "execution_count": null,
   "metadata": {},
   "outputs": [],
   "source": [
    "sns.distplot(df[\"Age of Subject\"], \n",
    "             kde = False).set_title(\"Histogram of Age\")"
   ]
  },
  {
   "cell_type": "markdown",
   "metadata": {},
   "source": [
    "Conclusion: El rango de edad entre los participantes es grande llegando de menos de 10 hasta casi 60, pero hay una concentracion grande entre 15 y 25 años, y concluimos que entre esta edad esta la mayoria de participantes."
   ]
  },
  {
   "cell_type": "markdown",
   "metadata": {},
   "source": [
    "## ¿Cuanto tiempo en clases en linea hay por tiempo de ejercio? ##"
   ]
  },
  {
   "cell_type": "code",
   "execution_count": null,
   "metadata": {},
   "outputs": [],
   "source": [
    "sns.scatterplot(x=\"Time spent on Online Class\", y=\"Time spent on fitness\", data = df)\n",
    "sns.set(rc={'figure.figsize':(20,11)})\n",
    "pl.title('Cuanto tiempo en clases en linea hay por tiempo de ejercio')\n",
    "pl.show()"
   ]
  },
  {
   "cell_type": "markdown",
   "metadata": {},
   "source": [
    "Conclusion: Podemos ver una relacion en el scatterplot en donde los puntos mas altos de tiempo en fitness coinciden con puntos bajos de online classes y viceversa, entonces conluimos que estas dos variables no se relacionan bien ya que una quita tiempo para pode hacer la otra."
   ]
  },
  {
   "cell_type": "markdown",
   "metadata": {},
   "source": [
    "## ¿Cual es la relacion entre la edad y el tiempo gastado en diferentes actividades? "
   ]
  },
  {
   "cell_type": "code",
   "execution_count": null,
   "metadata": {},
   "outputs": [],
   "source": [
    "\n",
    "pivot= pd.pivot_table(df, \n",
    "               index='Age of Subject', \n",
    "               values=['Time spent on self study','Time spent on fitness','Time spent on social media', 'Time spent on sleep'], \n",
    "               aggfunc='mean'\n",
    "              )\n",
    "pivot"
   ]
  },
  {
   "cell_type": "markdown",
   "metadata": {},
   "source": [
    "Conclusion: Se puede observar una distribucion en donde las edades entre 7 y 15 y 45 para arriba muestran un comportamiento parecido, mientras que las edades entre estos intervalos, 15 a 44, muestran un comportamiento similar, entonces concluimos que la edad si influye en el tiempo que usan para las diferentes actividades"
   ]
  },
  {
   "cell_type": "markdown",
   "metadata": {},
   "source": [
    "## ¿EXISTE RELACION ENTRE COMER Y LA SALUD? ##"
   ]
  },
  {
   "cell_type": "code",
   "execution_count": null,
   "metadata": {},
   "outputs": [],
   "source": [
    "\n",
    "pivot2= pd.pivot_table(df, \n",
    "               index='Health issue during lockdown', \n",
    "               values=['Number of meals per day'], \n",
    "               aggfunc='mean'\n",
    "              )\n",
    "pivot2"
   ]
  },
  {
   "cell_type": "markdown",
   "metadata": {},
   "source": [
    "Conclusion: Podemos ver qye la diferencia no es significativa, entonces podemos concluir que los health issues no tienen relacion significativa con el numero de comidas por dia"
   ]
  },
  {
   "cell_type": "markdown",
   "metadata": {},
   "source": [
    "## ¿Cual es la relacion entre la edad y el numero de meals? ##"
   ]
  },
  {
   "cell_type": "code",
   "execution_count": null,
   "metadata": {},
   "outputs": [],
   "source": [
    "pivot3= pd.pivot_table(df, \n",
    "               index='Age of Subject', \n",
    "               values=['Number of meals per day'], \n",
    "               aggfunc='mean'\n",
    "              )\n",
    "pivot3"
   ]
  },
  {
   "cell_type": "code",
   "execution_count": null,
   "metadata": {},
   "outputs": [],
   "source": [
    "pivot3['%'] = (pivot.iloc[:,0]/pivot.iloc[:,0].sum(axis=0))*100\n",
    "pivot3"
   ]
  },
  {
   "cell_type": "code",
   "execution_count": null,
   "metadata": {},
   "outputs": [],
   "source": [
    "\n",
    "color_list = ['coral']\n",
    "pivot3['%'].plot(kind = 'pie',\n",
    "                   figsize = (16,6),\n",
    "                   startangle=90,  \n",
    "                  autopct = '%1.1f%%',\n",
    "                   pctdistance  =1.7,\n",
    "                )\n",
    "          \n",
    "pl.title('Numero de comidas por edad ',fontsize =10)\n",
    "pl.show"
   ]
  },
  {
   "cell_type": "markdown",
   "metadata": {},
   "source": [
    "Conclusion: Podemos ver que los % mas altos son de edades variadas entre 15 y 60, por lo que descartamos alguna relacion signficativa entre estas dos variables."
   ]
  },
  {
   "cell_type": "code",
   "execution_count": null,
   "metadata": {},
   "outputs": [],
   "source": []
  }
 ],
 "metadata": {
  "kernelspec": {
   "display_name": "Python 3 (ipykernel)",
   "language": "python",
   "name": "python3"
  },
  "language_info": {
   "codemirror_mode": {
    "name": "ipython",
    "version": 3
   },
   "file_extension": ".py",
   "mimetype": "text/x-python",
   "name": "python",
   "nbconvert_exporter": "python",
   "pygments_lexer": "ipython3",
   "version": "3.7.12"
  }
 },
 "nbformat": 4,
 "nbformat_minor": 4
}
